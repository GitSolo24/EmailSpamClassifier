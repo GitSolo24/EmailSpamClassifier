{
 "cells": [
  {
   "cell_type": "markdown",
   "id": "9ee7abea-7fea-4526-a460-7845d4a72601",
   "metadata": {},
   "source": [
    "Naive Bayes Classfier"
   ]
  },
  {
   "cell_type": "code",
   "execution_count": 153,
   "id": "ecc612eb-ab9c-4502-ab5e-e28613a44b8d",
   "metadata": {},
   "outputs": [],
   "source": [
    "#Import libraries \n",
    "import os \n",
    "import pandas as pd \n",
    "import numpy as np \n",
    "import matplotlib.pyplot as plt \n",
    "import sklearn as scikit_learn\n"
   ]
  },
  {
   "cell_type": "markdown",
   "id": "28fc2fce-2287-465b-9677-400479be44b6",
   "metadata": {},
   "source": [
    "Reading training files from folder "
   ]
  },
  {
   "cell_type": "code",
   "execution_count": 154,
   "id": "79cb22b6-99c4-4415-95be-d991bc91af77",
   "metadata": {},
   "outputs": [],
   "source": [
    "#Write files into training dataframe \n",
    "spamtrain_directory = '/Users/solougbane/Desktop/Project_1/emails/spamtraining'\n",
    "\n",
    "spamdata = []\n",
    "\n",
    "for filename in os.listdir(spamtrain_directory):\n",
    "    if filename.endswith('.txt'):\n",
    "        with open(os.path.join(spamtrain_directory, filename), 'r',errors = 'ignore') as file:\n",
    "            content = file.read()\n",
    "            #data.append({'filename': filename, 'content': content})\n",
    "            spamdata.append({'content': content, 'spam' : 1})\n",
    "\n",
    "hamtrain_directory = '/Users/solougbane/Desktop/Project_1/emails/hamtraining'\n",
    "for filename in os.listdir(hamtrain_directory):\n",
    "    if filename.endswith('.txt'):\n",
    "        with open(os.path.join(hamtrain_directory, filename), 'rb') as file:\n",
    "            content = file.read()\n",
    "            #data.append({'filename': filename, 'content': content})\n",
    "            spamdata.append({'content': content, 'spam' : 0})\n",
    "\n",
    "train_df = pd.DataFrame(spamdata)\n"
   ]
  },
  {
   "cell_type": "code",
   "execution_count": 155,
   "id": "6441d6d9-45a1-4a9e-a9e1-ec3929162566",
   "metadata": {},
   "outputs": [
    {
     "data": {
      "text/plain": [
       "400"
      ]
     },
     "execution_count": 155,
     "metadata": {},
     "output_type": "execute_result"
    }
   ],
   "source": [
    "train_df.head(5)\n",
    "train_df.size"
   ]
  },
  {
   "cell_type": "code",
   "execution_count": 156,
   "id": "2b5cfa5b-40a1-4302-9946-e84a856b9314",
   "metadata": {},
   "outputs": [
    {
     "name": "stdout",
     "output_type": "stream",
     "text": [
      "<class 'pandas.core.frame.DataFrame'>\n",
      "RangeIndex: 200 entries, 0 to 199\n",
      "Data columns (total 2 columns):\n",
      " #   Column   Non-Null Count  Dtype \n",
      "---  ------   --------------  ----- \n",
      " 0   content  200 non-null    object\n",
      " 1   spam     200 non-null    int64 \n",
      "dtypes: int64(1), object(1)\n",
      "memory usage: 3.3+ KB\n"
     ]
    }
   ],
   "source": [
    "train_df.tail(3)\n",
    "train_df.info()"
   ]
  },
  {
   "cell_type": "code",
   "execution_count": 157,
   "id": "efcaf918-90ff-4c32-a6eb-fd27104941e1",
   "metadata": {},
   "outputs": [],
   "source": [
    "# Turn training data (words) into vectors \n",
    "from sklearn.feature_extraction.text import CountVectorizer\n",
    "vectorizer = CountVectorizer()\n",
    "train_countvectorizer = vectorizer.fit_transform(train_df['content'])"
   ]
  },
  {
   "cell_type": "code",
   "execution_count": 158,
   "id": "62bc1b20-305e-4ad0-a48c-a9a3f75164db",
   "metadata": {},
   "outputs": [
    {
     "data": {
      "text/plain": [
       "(200, 6963)"
      ]
     },
     "execution_count": 158,
     "metadata": {},
     "output_type": "execute_result"
    }
   ],
   "source": [
    "train_countvectorizer.shape"
   ]
  },
  {
   "cell_type": "code",
   "execution_count": 159,
   "id": "77b0904e-b9f5-4bde-9dfe-268f8d5ced8f",
   "metadata": {},
   "outputs": [],
   "source": [
    "#assign X and Y training data\n",
    "x_train = train_countvectorizer\n",
    "train_label = train_df['spam']\n",
    "y_train = train_label"
   ]
  },
  {
   "cell_type": "code",
   "execution_count": 160,
   "id": "83735210-e4d5-44c1-bee4-9966fc2d074b",
   "metadata": {},
   "outputs": [
    {
     "data": {
      "text/plain": [
       "(200, 6963)"
      ]
     },
     "execution_count": 160,
     "metadata": {},
     "output_type": "execute_result"
    }
   ],
   "source": [
    "x_train.shape"
   ]
  },
  {
   "cell_type": "code",
   "execution_count": 161,
   "id": "ab3e1a94-52f4-4e68-97e9-b8b20fc06860",
   "metadata": {},
   "outputs": [
    {
     "data": {
      "text/plain": [
       "(200,)"
      ]
     },
     "execution_count": 161,
     "metadata": {},
     "output_type": "execute_result"
    }
   ],
   "source": [
    "y_train.shape"
   ]
  },
  {
   "cell_type": "code",
   "execution_count": 162,
   "id": "714421e5-c70a-46f4-be05-4f5f0c682851",
   "metadata": {},
   "outputs": [],
   "source": [
    "#Import Naive Bayes classifier \n",
    "from sklearn.naive_bayes import MultinomialNB"
   ]
  },
  {
   "cell_type": "code",
   "execution_count": 163,
   "id": "049f6ec2-6206-4ced-8d93-143580249057",
   "metadata": {},
   "outputs": [
    {
     "data": {
      "text/html": [
       "<style>#sk-container-id-3 {color: black;}#sk-container-id-3 pre{padding: 0;}#sk-container-id-3 div.sk-toggleable {background-color: white;}#sk-container-id-3 label.sk-toggleable__label {cursor: pointer;display: block;width: 100%;margin-bottom: 0;padding: 0.3em;box-sizing: border-box;text-align: center;}#sk-container-id-3 label.sk-toggleable__label-arrow:before {content: \"▸\";float: left;margin-right: 0.25em;color: #696969;}#sk-container-id-3 label.sk-toggleable__label-arrow:hover:before {color: black;}#sk-container-id-3 div.sk-estimator:hover label.sk-toggleable__label-arrow:before {color: black;}#sk-container-id-3 div.sk-toggleable__content {max-height: 0;max-width: 0;overflow: hidden;text-align: left;background-color: #f0f8ff;}#sk-container-id-3 div.sk-toggleable__content pre {margin: 0.2em;color: black;border-radius: 0.25em;background-color: #f0f8ff;}#sk-container-id-3 input.sk-toggleable__control:checked~div.sk-toggleable__content {max-height: 200px;max-width: 100%;overflow: auto;}#sk-container-id-3 input.sk-toggleable__control:checked~label.sk-toggleable__label-arrow:before {content: \"▾\";}#sk-container-id-3 div.sk-estimator input.sk-toggleable__control:checked~label.sk-toggleable__label {background-color: #d4ebff;}#sk-container-id-3 div.sk-label input.sk-toggleable__control:checked~label.sk-toggleable__label {background-color: #d4ebff;}#sk-container-id-3 input.sk-hidden--visually {border: 0;clip: rect(1px 1px 1px 1px);clip: rect(1px, 1px, 1px, 1px);height: 1px;margin: -1px;overflow: hidden;padding: 0;position: absolute;width: 1px;}#sk-container-id-3 div.sk-estimator {font-family: monospace;background-color: #f0f8ff;border: 1px dotted black;border-radius: 0.25em;box-sizing: border-box;margin-bottom: 0.5em;}#sk-container-id-3 div.sk-estimator:hover {background-color: #d4ebff;}#sk-container-id-3 div.sk-parallel-item::after {content: \"\";width: 100%;border-bottom: 1px solid gray;flex-grow: 1;}#sk-container-id-3 div.sk-label:hover label.sk-toggleable__label {background-color: #d4ebff;}#sk-container-id-3 div.sk-serial::before {content: \"\";position: absolute;border-left: 1px solid gray;box-sizing: border-box;top: 0;bottom: 0;left: 50%;z-index: 0;}#sk-container-id-3 div.sk-serial {display: flex;flex-direction: column;align-items: center;background-color: white;padding-right: 0.2em;padding-left: 0.2em;position: relative;}#sk-container-id-3 div.sk-item {position: relative;z-index: 1;}#sk-container-id-3 div.sk-parallel {display: flex;align-items: stretch;justify-content: center;background-color: white;position: relative;}#sk-container-id-3 div.sk-item::before, #sk-container-id-3 div.sk-parallel-item::before {content: \"\";position: absolute;border-left: 1px solid gray;box-sizing: border-box;top: 0;bottom: 0;left: 50%;z-index: -1;}#sk-container-id-3 div.sk-parallel-item {display: flex;flex-direction: column;z-index: 1;position: relative;background-color: white;}#sk-container-id-3 div.sk-parallel-item:first-child::after {align-self: flex-end;width: 50%;}#sk-container-id-3 div.sk-parallel-item:last-child::after {align-self: flex-start;width: 50%;}#sk-container-id-3 div.sk-parallel-item:only-child::after {width: 0;}#sk-container-id-3 div.sk-dashed-wrapped {border: 1px dashed gray;margin: 0 0.4em 0.5em 0.4em;box-sizing: border-box;padding-bottom: 0.4em;background-color: white;}#sk-container-id-3 div.sk-label label {font-family: monospace;font-weight: bold;display: inline-block;line-height: 1.2em;}#sk-container-id-3 div.sk-label-container {text-align: center;}#sk-container-id-3 div.sk-container {/* jupyter's `normalize.less` sets `[hidden] { display: none; }` but bootstrap.min.css set `[hidden] { display: none !important; }` so we also need the `!important` here to be able to override the default hidden behavior on the sphinx rendered scikit-learn.org. See: https://github.com/scikit-learn/scikit-learn/issues/21755 */display: inline-block !important;position: relative;}#sk-container-id-3 div.sk-text-repr-fallback {display: none;}</style><div id=\"sk-container-id-3\" class=\"sk-top-container\"><div class=\"sk-text-repr-fallback\"><pre>MultinomialNB()</pre><b>In a Jupyter environment, please rerun this cell to show the HTML representation or trust the notebook. <br />On GitHub, the HTML representation is unable to render, please try loading this page with nbviewer.org.</b></div><div class=\"sk-container\" hidden><div class=\"sk-item\"><div class=\"sk-estimator sk-toggleable\"><input class=\"sk-toggleable__control sk-hidden--visually\" id=\"sk-estimator-id-3\" type=\"checkbox\" checked><label for=\"sk-estimator-id-3\" class=\"sk-toggleable__label sk-toggleable__label-arrow\">MultinomialNB</label><div class=\"sk-toggleable__content\"><pre>MultinomialNB()</pre></div></div></div></div></div>"
      ],
      "text/plain": [
       "MultinomialNB()"
      ]
     },
     "execution_count": 163,
     "metadata": {},
     "output_type": "execute_result"
    }
   ],
   "source": [
    "NB_classifier = MultinomialNB()\n",
    "NB_classifier.fit(x_train,y_train)"
   ]
  },
  {
   "cell_type": "code",
   "execution_count": 94,
   "id": "388c028e-8244-49ef-9249-679ac8a33793",
   "metadata": {},
   "outputs": [],
   "source": [
    "from sklearn.metrics import classification_report,confusion_matrix"
   ]
  },
  {
   "cell_type": "code",
   "execution_count": 177,
   "id": "471da390-5701-4460-bc66-fee076519a6d",
   "metadata": {},
   "outputs": [],
   "source": [
    "y_train_predict = NB_classifier.predict(x_train)"
   ]
  },
  {
   "cell_type": "code",
   "execution_count": 165,
   "id": "b17ef431-cbb5-4869-a4e1-ae750a870dee",
   "metadata": {},
   "outputs": [],
   "source": [
    "conmat = confusion_matrix(y_train,y_train_predict)"
   ]
  },
  {
   "cell_type": "code",
   "execution_count": 166,
   "id": "7c92c88a-2c7d-453c-a25a-5e7e466316d2",
   "metadata": {},
   "outputs": [
    {
     "name": "stdout",
     "output_type": "stream",
     "text": [
      "[[100   0]\n",
      " [  2  98]]\n"
     ]
    }
   ],
   "source": [
    "print(conmat)"
   ]
  },
  {
   "cell_type": "markdown",
   "id": "c1c98ba0-d75a-41b7-8450-820a15ab0924",
   "metadata": {},
   "source": [
    "Testing"
   ]
  },
  {
   "cell_type": "code",
   "execution_count": 175,
   "id": "a8dca941-68c9-482e-8ced-60aa2435f180",
   "metadata": {},
   "outputs": [],
   "source": [
    "#Import testing Data \n",
    "spamtest_directory = '/Users/solougbane/Desktop/Project_1/emails/spamtesting'\n",
    "\n",
    "spamtest = []\n",
    "\n",
    "for filename in os.listdir(spamtest_directory):\n",
    "    if filename.endswith('.txt'):\n",
    "        with open(os.path.join(spamtest_directory, filename), 'r',errors = 'ignore') as file:\n",
    "            content = file.read()\n",
    "            spamtest.append({'content': content, 'spam' : 1})\n",
    "\n",
    "hamtest_directory = '/Users/solougbane/Desktop/Project_1/emails/hamtesting'\n",
    "for filename in os.listdir(hamtest_directory):\n",
    "    if filename.endswith('.txt'):\n",
    "        with open(os.path.join(hamtest_directory, filename), 'r') as file:\n",
    "            content = file.read()\n",
    "            spamtest.append({'content': content, 'spam' : 0})\n",
    "\n",
    "test_df = pd.DataFrame(spamtest)"
   ]
  },
  {
   "cell_type": "code",
   "execution_count": 169,
   "id": "a53b2767-3f61-4bf6-93a2-438ba112cdb1",
   "metadata": {},
   "outputs": [
    {
     "data": {
      "text/html": [
       "<div>\n",
       "<style scoped>\n",
       "    .dataframe tbody tr th:only-of-type {\n",
       "        vertical-align: middle;\n",
       "    }\n",
       "\n",
       "    .dataframe tbody tr th {\n",
       "        vertical-align: top;\n",
       "    }\n",
       "\n",
       "    .dataframe thead th {\n",
       "        text-align: right;\n",
       "    }\n",
       "</style>\n",
       "<table border=\"1\" class=\"dataframe\">\n",
       "  <thead>\n",
       "    <tr style=\"text-align: right;\">\n",
       "      <th></th>\n",
       "      <th>content</th>\n",
       "      <th>spam</th>\n",
       "    </tr>\n",
       "  </thead>\n",
       "  <tbody>\n",
       "    <tr>\n",
       "      <th>197</th>\n",
       "      <td>Subject: performance review - mid - year\\nfor ...</td>\n",
       "      <td>0</td>\n",
       "    </tr>\n",
       "    <tr>\n",
       "      <th>198</th>\n",
       "      <td>Subject: equistar feb - 01\\ndaren - here are t...</td>\n",
       "      <td>0</td>\n",
       "    </tr>\n",
       "    <tr>\n",
       "      <th>199</th>\n",
       "      <td>Subject: sear robin revisions effective 6 / 10...</td>\n",
       "      <td>0</td>\n",
       "    </tr>\n",
       "  </tbody>\n",
       "</table>\n",
       "</div>"
      ],
      "text/plain": [
       "                                               content  spam\n",
       "197  Subject: performance review - mid - year\\nfor ...     0\n",
       "198  Subject: equistar feb - 01\\ndaren - here are t...     0\n",
       "199  Subject: sear robin revisions effective 6 / 10...     0"
      ]
     },
     "execution_count": 169,
     "metadata": {},
     "output_type": "execute_result"
    }
   ],
   "source": [
    "test_df.tail(3)"
   ]
  },
  {
   "cell_type": "code",
   "execution_count": 170,
   "id": "555ea14c-0dda-4faa-9c28-68ab97a9ac8f",
   "metadata": {},
   "outputs": [
    {
     "name": "stdout",
     "output_type": "stream",
     "text": [
      "<class 'pandas.core.frame.DataFrame'>\n",
      "RangeIndex: 200 entries, 0 to 199\n",
      "Data columns (total 2 columns):\n",
      " #   Column   Non-Null Count  Dtype \n",
      "---  ------   --------------  ----- \n",
      " 0   content  200 non-null    object\n",
      " 1   spam     200 non-null    int64 \n",
      "dtypes: int64(1), object(1)\n",
      "memory usage: 3.3+ KB\n"
     ]
    }
   ],
   "source": [
    "test_df.info()"
   ]
  },
  {
   "cell_type": "code",
   "execution_count": 171,
   "id": "18e6eee8-5186-4286-8124-3cdf91c29cf8",
   "metadata": {},
   "outputs": [],
   "source": [
    "# turn testing data into vectors\n",
    "test_vectorizer = vectorizer.transform(test_df['content'])\n",
    "x_test = test_vectorizer\n",
    "testlabel = test_df['spam']\n",
    "y_test = testlabel"
   ]
  },
  {
   "cell_type": "code",
   "execution_count": 172,
   "id": "a9b921f1-fe78-491c-b44e-491f1f0968cf",
   "metadata": {},
   "outputs": [
    {
     "data": {
      "text/plain": [
       "(200, 6963)"
      ]
     },
     "execution_count": 172,
     "metadata": {},
     "output_type": "execute_result"
    }
   ],
   "source": [
    "x_test.shape"
   ]
  },
  {
   "cell_type": "code",
   "execution_count": 173,
   "id": "d6d20bcd-e3ff-49e1-907a-b4559c7c9cb1",
   "metadata": {},
   "outputs": [],
   "source": [
    "#predict y test (label) values \n",
    "y_test_predict = NB_classifier.predict(x_test)"
   ]
  },
  {
   "cell_type": "code",
   "execution_count": 174,
   "id": "a1576397-250f-40b8-9698-d900dc3fe352",
   "metadata": {},
   "outputs": [
    {
     "name": "stdout",
     "output_type": "stream",
     "text": [
      "              precision    recall  f1-score   support\n",
      "\n",
      "           0       0.88      0.95      0.91       100\n",
      "           1       0.95      0.87      0.91       100\n",
      "\n",
      "    accuracy                           0.91       200\n",
      "   macro avg       0.91      0.91      0.91       200\n",
      "weighted avg       0.91      0.91      0.91       200\n",
      "\n"
     ]
    }
   ],
   "source": [
    "print(classification_report(y_test,y_test_predict))"
   ]
  },
  {
   "cell_type": "code",
   "execution_count": null,
   "id": "5e5b8fad-4f57-44d3-b5b4-08ad1b0514b3",
   "metadata": {},
   "outputs": [],
   "source": []
  }
 ],
 "metadata": {
  "kernelspec": {
   "display_name": "Python 3 (ipykernel)",
   "language": "python",
   "name": "python3"
  },
  "language_info": {
   "codemirror_mode": {
    "name": "ipython",
    "version": 3
   },
   "file_extension": ".py",
   "mimetype": "text/x-python",
   "name": "python",
   "nbconvert_exporter": "python",
   "pygments_lexer": "ipython3",
   "version": "3.12.2"
  }
 },
 "nbformat": 4,
 "nbformat_minor": 5
}
